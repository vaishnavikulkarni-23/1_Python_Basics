{
 "cells": [
  {
   "cell_type": "markdown",
   "id": "438b0e93",
   "metadata": {},
   "source": [
    "1. What is Python, and why is it popular?\n",
    "\n",
    "Ans: \n",
    "Python is easy to learn and uderstand high level interpreted programming language.It was created by Guido van Rossum and first released in 1991. Python allows to express logic in fewer lines of codes unlike other programming laguages like C++ and Java.\n",
    "\n",
    "Python is popular due to its versatility and ease of use. It is easy to learn and understand programming language, which outstand it from other programming languages. Over more than 1 Lakh built in libraries makes python more popular than other programming languages.\n",
    "\n",
    "2. What is an interpreter in Python?\n",
    "\n",
    "Ans:\n",
    "In Python, an interpreter is a program that reads and executes the Python code line by line, directly translating it into machine instructions that the computer can understand and execute. This is in contrast to a compiler, which translates the entire program into machine code before execution. Python is an interpreted language, which means that when you run a Python script, the interpreter reads the code line by line, executing each line as it goes. This makes debugging easier because you can test code interactively.\n",
    "\n",
    "Interpreter first do Lexical Analysis(reads your code and breaks it down into \"tokens\" — the basic building blocks of the language, such as keywords), then parsing (The interpreter then analyzes the tokens and arranges them into a structure called an Abstract Syntax Tree (AST).) is performed. Post this Bytecode Compilation (The interpreter converts the AST into bytecode. Bytecode is a set of instructions that is not directly executed by the hardware but is executed by the Python virtual machine (PVM).) is perform. The Python interpreter runs the bytecode on the Python Virtual Machine (PVM), which is a part of the Python runtime environment. The PVM converts the bytecode into machine code, which the computer can then execute.\n",
    "\n",
    "Here are the main types of Python interpreters in one line:\n",
    "\n",
    "CPython: Default, written in C, and widely used.\n",
    "PyPy: Optimized for speed with JIT compilation.\n",
    "Jython: Python running on the Java Virtual Machine (JVM).\n",
    "IronPython: Python for the .NET framework.\n",
    "MicroPython: Lightweight Python for embedded systems.\n",
    "\n",
    "3. What are pre-defined keywords in Python?\n",
    "\n",
    "Ans:\n",
    "In Python, pre-defined keywords (also called reserved words) are special words that have predefined meanings and cannot be used as identifiers (e.g., variable names, function names). These keywords are part of the Python language syntax, and each one has a specific function or role.\n",
    "\n",
    "As of Python 3.10 and Python 3.11, there are 35 keywords. We can see python keyword by help(\"keywords\") or import keyword print(keyword.kwlist).\n",
    "\n",
    "4. Can keywords be used as variable names?\n",
    "\n",
    "Ans: \n",
    "No Keywords can't be use as variable names as keywords are reserved words. Each keyword has a particular fuctionality and cannot be used as name of variable.\n",
    "\n",
    "5. What is mutability in Python?\n",
    "\n",
    "Ans:\n",
    "Mutability in Python refers to whether an object’s state or value can be changed after it is created. In simple terms, if an object is mutable, you can modify its contents or state. If an object is immutable, you cannot change its contents after creation.\n",
    "\n",
    "Mutable types: list, dict, set, bytearray\n",
    "Immutable types: int, float, str, tuple, frozenset, bool, bytes\n",
    "\n",
    "6. Why are lists mutable, but tuples are immutable?\n",
    "\n",
    "Ans:\n",
    "Lists are mutable because they are designed to allow changes, like adding, removing, or modifying elements. This makes them flexible for dynamic data.\n",
    "\n",
    "Tuples are immutable to provide data integrity and efficiency. Once created, their contents can't be changed, making them safer and more memory-efficient.\n",
    "\n",
    "Performance:\n",
    "Lists are mutable for efficient modifications (add/remove items).\n",
    "Tuples are immutable, optimizing memory usage and access speed.\n",
    "\n",
    "Hashability:\n",
    "Tuples can be used as dictionary keys because they are hashable.\n",
    "Lists cannot be used as dictionary keys because they are not hashable.\n",
    "\n",
    "Safety:\n",
    "Tuples are safer because their data can’t be changed accidentally.\n",
    "Lists can be modified, leading to potential data changes.\n",
    "\n",
    "Memory Efficiency:\n",
    "Tuples use less memory since they are immutable.\n",
    "Lists use more memory to accommodate dynamic changes.\n",
    "\n",
    "Use Cases:\n",
    "Lists are for dynamic collections (modifiable data).\n",
    "Tuples are for fixed collections (unchanging data).\n",
    "\n",
    "Syntax and Behavior:\n",
    "Lists use [] and can be modified (append(), remove()).\n",
    "Tuples use () and cannot be modified.\n",
    "\n",
    "7. What is the difference between “==” and “is” operators in Python?\n",
    "\n",
    "Ans:\n",
    "1. == (Equality Operator):\n",
    "Compares the values of two objects to check if they are equal.It checks whether the contents or values are the same, regardless of whether the two variables are the same object in memory.\n",
    "Example:\n",
    "a = [1, 2, 3]\n",
    "b = [1, 2, 3]\n",
    "print(a == b)  # True (values are equal)\n",
    "\n",
    "2. is (Identity Operator):\n",
    "Compares the memory locations (or identity) of two objects to check if they refer to the same object. It checks whether two variables point to the same object in memory.\n",
    "\n",
    "Example:\n",
    "a = [1, 2, 3]\n",
    "b = a  # b and a refer to the same object in memory\n",
    "\n",
    "print(a is b)  # True (they refer to the same object)\n",
    "\n",
    "\n",
    "a = [1, 2, 3]\n",
    "b = [1, 2, 3]\n",
    "\n",
    "print(a is b)  # False (different objects in memory)\n",
    "\n",
    "In short,\n",
    "\n",
    "== checks if the values in the objects are equal (e.g., do the lists contain the same items).\n",
    "is checks if two variables refer to the same object (i.e., do they share the same memory location).\n",
    "\n",
    "8. What are logical operators in Python?\n",
    "\n",
    "Ans:\n",
    "Logical operators in Python are used to perform logical operations on Boolean values (True or False). Logical operators in python are AND, OR AND NOT.\n",
    "\n",
    "and: True if both operands are True.\n",
    "or: True if at least one operand is True.\n",
    "not: Reverses the Boolean value.\n",
    "\n",
    "9. What is type casting in Python?\n",
    "\n",
    "Ans:\n",
    "Type casting in Python refers to the process of converting one data type into another. Python provides functions to explicitly convert between types.\n",
    "\n",
    "Types:\n",
    "1.Implicit Type Casting (Automatic):\n",
    "   - Python automatically converts smaller data types to larger data types when necessary.\n",
    "   - Example:\n",
    "\n",
    "     x = 10   # Integer\n",
    "     y = 3.5  # Float\n",
    "     result = x + y  # Implicitly, x is converted to a float\n",
    "     print(result)  # Output: 13.5\n",
    "     \n",
    "2.Explicit Type Casting (Manual):\n",
    "   - You can manually convert one data type to another using casting functions like `int()`, `float()`, `str()`, etc.\n",
    "   - Example:\n",
    "\n",
    "     #Converting float to int\n",
    "     x = 3.7\n",
    "     y = int(x)  # y becomes 3 (decimal part is truncated)\n",
    "     print(y)  # Output: 3\n",
    "     \n",
    "     #Converting int to string\n",
    "     z = 5\n",
    "     s = str(z)  # z becomes \"5\"\n",
    "     print(s)  # Output: \"5\"\n",
    "Common Type Casting Functions:\n",
    "int(): Converts to an integer.\n",
    "float(): Converts to a float.\n",
    "str(): Converts to a string.\n",
    "list(): Converts to a list.\n",
    "tuple(): Converts to a tuple.\n",
    "\n",
    "Implicit casting happens automatically when converting between compatible types.\n",
    "Explicit casting is done manually using functions like `int()`, `float()`, etc.\n",
    "\n",
    "10. What is the difference between implicit and explicit type casting?\n",
    "\n",
    "Ans:\n",
    "Here’s the comparison between implicit and explicit type casting in Python:\n",
    "\n",
    "1. Definition:\n",
    "   - Implicit Type Casting: Automatically done by Python when needed.\n",
    "   - Explicit Type Casting: Manually done by the programmer using casting functions.\n",
    "\n",
    "2. Also Known As:\n",
    "   - Implicit Type Casting: Also called Automatic Type Conversion.\n",
    "   - Explicit Type Casting: Also known as Type Conversion.\n",
    "\n",
    "3. When It Happens:\n",
    "   - Implicit Type Casting: Occurs when Python automatically converts smaller data types to larger types (e.g., `int` to `float`).\n",
    "   - Explicit Type Casting: Occurs when you explicitly convert one data type to another using functions like `int()`, `str()`, etc.\n",
    "\n",
    "4. Example:\n",
    "   - Implicit Type Casting: `x = 10; y = 3.5; result = x + y` (Python automatically converts `int` to `float`).\n",
    "   - Explicit Type Casting: `x = 3.7; y = int(x)` (manually converts `float` to `int`).\n",
    "\n",
    "5. Control:\n",
    "   - Implicit Type Casting**: The programmer has no control over the conversion; Python does it automatically.\n",
    "   - Explicit Type Casting**: The programmer has full control and decides when and how to perform the conversion.\n",
    "\n",
    "11. What is the purpose of conditional statements in Python?\n",
    "\n",
    "Ans:\n",
    "The purpose of conditional statements in Python is to allow the program to make decisions and execute different blocks of code based on certain conditions. They enable the program to respond to different situations dynamically.\n",
    "\n",
    "Key Purposes:\n",
    "\n",
    "Control Flow: Conditional statements control the flow of execution in a program, letting it follow different paths depending on whether a condition is True or False.\n",
    "\n",
    "Decision Making: They help the program choose between different options, such as performing one action if a condition is met and another if it isn't.\n",
    "\n",
    "Handling Different Scenarios: Conditional statements enable the program to handle different input values or states and perform actions accordingly.\n",
    "\n",
    "Code Readability: Using conditions makes the program more readable by clearly expressing the logic for different scenarios (e.g., if, else, elif).\n",
    "\n",
    "Types of Conditional Statements:\n",
    "if: Executes a block of code if a condition is True.\n",
    "elif: Provides additional conditions if the previous if is False.\n",
    "else: Executes a block of code if all previous conditions are False.\n",
    "\n",
    "12. How does the elif statement work?\n",
    "\n",
    "Ans:\n",
    "The elif (short for \"else if\") statement in Python is used to check multiple conditions after an initial if statement. It allows you to test several expressions for truthfulness and execute a block of code as soon as one of the conditions evaluates to True.\n",
    "elif helps you check multiple conditions, without needing to write multiple if statements.\n",
    "You can have multiple elif statements, but only one if and one else (optional).\n",
    "\n",
    "How elif Works:\n",
    "First, Python checks the condition in the if statement.\n",
    "If the if condition is False, it then checks the elif condition(s) one by one.\n",
    "The first elif condition that evaluates to True will execute its corresponding block of code.\n",
    "If none of the elif conditions are True, the program executes the block of code under the else (if provided).\n",
    "\n",
    "Syntax:\n",
    "if condition1:\n",
    "    # Code block executed if condition1 is True\n",
    "elif condition2:\n",
    "    # Code block executed if condition1 is False and condition2 is True\n",
    "elif condition3:\n",
    "    # Code block executed if previous conditions are False and condition3 is True\n",
    "else:\n",
    "    # Code block executed if all conditions are False\n",
    "    \n",
    "13. What is the difference between for and while loops?\n",
    "\n",
    "Ans:\n",
    "Here’s a concise explanation of the difference between for and while loops in Python:\n",
    "\n",
    "Control Mechanism:\n",
    "   -for loop: Iterates over a sequence (like a list, tuple, string, or range) and executes the block of code for each item in that sequence.\n",
    "   - while loop: Repeats a block of code as long as a condition remains True.\n",
    "Usage:\n",
    "   -for loop: Best used when you know how many times you want to iterate (e.g., iterating over a collection or a fixed range).\n",
    "   - while loop: Best used when the number of iterations is unknown and depends on a condition that will eventually become False.\n",
    "\n",
    "Syntax:\n",
    "   - for loop: \n",
    "  \n",
    "     for item in sequence:\n",
    "         # Code block\n",
    " \n",
    "   - while loop:\n",
    "\n",
    "     while condition:\n",
    "         # Code block\n",
    "Termination:\n",
    "   - for loop: Automatically terminates once all elements in the sequence have been processed.\n",
    "   - while loop: Can run indefinitely if the condition never becomes `False` (e.g., an infinite loop).\n",
    "Example:\n",
    "   - for loop:\n",
    "\n",
    "     for i in range(5):\n",
    "         print(i)\n",
    "     #Output: 0 1 2 3 4\n",
    "\n",
    "   - while loop:\n",
    " \n",
    "     i = 0\n",
    "     while i < 5:\n",
    "         print(i)\n",
    "         i += 1\n",
    "     #Output: 0 1 2 3 4\n",
    "     \n",
    "- for loop: Iterates over a sequence for a fixed number of times.\n",
    "- while loop: Continues until a condition becomes `False`.\n",
    "\n",
    "14.Describe a scenario where a while loop is more suitable than a for loop.\n",
    "\n",
    "Ans: For a senario, suppose we have to allow to a new account opening to any website only if the the already existing account on the same email id is less than 3. Here we can use while loop more efficiently than for loop. The account creation loop will be execuetd untill acounts variable is less than 3, once the it is 3 the loop will stop its execution. And the website will demand account creation with new email id.\n",
    "\n",
    "Code:\n",
    "\n",
    "Email = input('Enter Email: ')\n",
    "Accounts = 3  # Starting with 2 accounts\n",
    "\n",
    "while Accounts < 3:\n",
    "    print('You can create:', max(Accounts - 2, 0), 'Account.') # Ensure positive account creation count (use max to avoid negative values)\n",
    "    if Accounts <= 1:\n",
    "        print('Enter Password to create a new account')\n",
    "        break\n",
    "    Accounts += 1  # Increment the account count\n",
    "print('Account limit exceeded for the provided Email. Please use a different email address.')\n",
    "        \n",
    "\n"
   ]
  },
  {
   "cell_type": "code",
   "execution_count": 30,
   "id": "ec1f6019",
   "metadata": {},
   "outputs": [
    {
     "name": "stdout",
     "output_type": "stream",
     "text": [
      "Enter Email: v\n",
      "Account limit exceeded for the provided Email. Please use a different email address.\n"
     ]
    }
   ],
   "source": [
    "Email = input('Enter Email: ')\n",
    "Accounts = 3  # Starting with 2 accounts\n",
    "\n",
    "while Accounts < 3:\n",
    "    print('You can create:', max(Accounts - 2, 0), 'Account.') # Ensure positive account creation count (use max to avoid negative values)\n",
    "    if Accounts <= 1:\n",
    "        print('Enter Password to create a new account')\n",
    "        break\n",
    "    Accounts += 1  # Increment the account count\n",
    "print('Account limit exceeded for the provided Email. Please use a different email address.')\n",
    "        \n"
   ]
  },
  {
   "cell_type": "code",
   "execution_count": 31,
   "id": "71a8d328",
   "metadata": {},
   "outputs": [
    {
     "name": "stdout",
     "output_type": "stream",
     "text": [
      "Hello, World!\n"
     ]
    }
   ],
   "source": [
    "# 1. Write a Python program to print \"Hello, World!_\n",
    "\n",
    "print('Hello, World!')"
   ]
  },
  {
   "cell_type": "code",
   "execution_count": 34,
   "id": "18c4c8fe",
   "metadata": {},
   "outputs": [
    {
     "name": "stdout",
     "output_type": "stream",
     "text": [
      "Enter Name: Vaishnavi\n",
      "Enter Age: 45\n",
      "Name: Vaishnavi Age: 45\n"
     ]
    }
   ],
   "source": [
    "# 2. Write a Python program that displays your name and age\n",
    "Name = str(input('Enter Name: '))\n",
    "Age = int(input('Enter Age: '))\n",
    "print('Name:', Name, 'Age:', Age)"
   ]
  },
  {
   "cell_type": "code",
   "execution_count": 36,
   "id": "5c2ce24f",
   "metadata": {},
   "outputs": [
    {
     "name": "stdout",
     "output_type": "stream",
     "text": [
      "['False', 'None', 'True', 'and', 'as', 'assert', 'break', 'class', 'continue', 'def', 'del', 'elif', 'else', 'except', 'finally', 'for', 'from', 'global', 'if', 'import', 'in', 'is', 'lambda', 'nonlocal', 'not', 'or', 'pass', 'raise', 'return', 'try', 'while', 'with', 'yield']\n"
     ]
    }
   ],
   "source": [
    "# 3. Write code to print all the pre-defined keywords in Python using the keyword library\n",
    "import keyword\n",
    "print(keyword.kwlist)"
   ]
  },
  {
   "cell_type": "code",
   "execution_count": 41,
   "id": "e8b334f9",
   "metadata": {},
   "outputs": [
    {
     "name": "stdout",
     "output_type": "stream",
     "text": [
      "Enter a word: 5\n",
      "'5' is not a Python keyword.\n"
     ]
    }
   ],
   "source": [
    "# 4 Write a program that checks if a given word is a Python keyword\n",
    "\n",
    "import keyword\n",
    "word = input(\"Enter a word: \")\n",
    "\n",
    "if word in keyword.kwlist:\n",
    "    print(f\"'{word}' is a Python keyword.\")\n",
    "else:\n",
    "    print(f\"'{word}' is not a Python keyword.\")\n",
    "\n",
    "'''An f-string is a way to embed expressions inside string literals, using curly braces {}. \n",
    "It makes it easy to embed variables or expressions inside a string, and the string is evaluated at runtime.\n",
    "f\"some text {variable}\"\n",
    "'''"
   ]
  },
  {
   "cell_type": "code",
   "execution_count": 45,
   "id": "53414b43",
   "metadata": {},
   "outputs": [
    {
     "name": "stdout",
     "output_type": "stream",
     "text": [
      "Original List [2, 3, 4, 'Vaishnavi']\n",
      "Change List [2, 3, 4, '5']\n",
      "Original Tuple (1, 2, 3, 4, 5, 6)\n"
     ]
    },
    {
     "ename": "TypeError",
     "evalue": "'tuple' object does not support item assignment",
     "output_type": "error",
     "traceback": [
      "\u001b[1;31m---------------------------------------------------------------------------\u001b[0m",
      "\u001b[1;31mTypeError\u001b[0m                                 Traceback (most recent call last)",
      "\u001b[1;32m<ipython-input-45-4910e1982110>\u001b[0m in \u001b[0;36m<module>\u001b[1;34m\u001b[0m\n\u001b[0;32m      7\u001b[0m \u001b[0mprint\u001b[0m\u001b[1;33m(\u001b[0m\u001b[1;34m'Change List'\u001b[0m\u001b[1;33m,\u001b[0m\u001b[0mList\u001b[0m\u001b[1;33m)\u001b[0m\u001b[1;33m\u001b[0m\u001b[1;33m\u001b[0m\u001b[0m\n\u001b[0;32m      8\u001b[0m \u001b[0mprint\u001b[0m\u001b[1;33m(\u001b[0m\u001b[1;34m'Original Tuple'\u001b[0m\u001b[1;33m,\u001b[0m \u001b[0mTuple\u001b[0m\u001b[1;33m)\u001b[0m\u001b[1;33m\u001b[0m\u001b[1;33m\u001b[0m\u001b[0m\n\u001b[1;32m----> 9\u001b[1;33m \u001b[0mTuple\u001b[0m\u001b[1;33m[\u001b[0m\u001b[1;36m2\u001b[0m\u001b[1;33m]\u001b[0m\u001b[1;33m=\u001b[0m\u001b[1;36m0\u001b[0m\u001b[1;33m\u001b[0m\u001b[1;33m\u001b[0m\u001b[0m\n\u001b[0m\u001b[0;32m     10\u001b[0m \u001b[0mprint\u001b[0m\u001b[1;33m(\u001b[0m\u001b[1;34m'Original Tuple'\u001b[0m\u001b[1;33m,\u001b[0m \u001b[0mTuple\u001b[0m\u001b[1;33m)\u001b[0m\u001b[1;33m\u001b[0m\u001b[1;33m\u001b[0m\u001b[0m\n\u001b[0;32m     11\u001b[0m \u001b[1;33m\u001b[0m\u001b[0m\n",
      "\u001b[1;31mTypeError\u001b[0m: 'tuple' object does not support item assignment"
     ]
    }
   ],
   "source": [
    "# 5 Create a list and tuple in Python, and demonstrate how attempting to change an element works differently for each.\n",
    "\n",
    "List = [2,3,4,'Vaishnavi']\n",
    "Tuple=(1,2,3,4,5,6)\n",
    "print('Original List', List)\n",
    "List[3] = '5'\n",
    "print('Change List',List)\n",
    "print('Original Tuple', Tuple)\n",
    "Tuple[2]=0\n",
    "print('Change Tuple', Tuple)\n",
    "\n",
    "'''List are Muttable so attempting to change an element works in list while in tuple the code throw error'''\n",
    "\n"
   ]
  },
  {
   "cell_type": "code",
   "execution_count": 49,
   "id": "f76d5283",
   "metadata": {},
   "outputs": [
    {
     "name": "stdout",
     "output_type": "stream",
     "text": [
      "Original values before function call:\n",
      "num: 5\n",
      "my_list: [1, 2, 3]\n",
      "Inside function, immutable_arg modified to: 6\n",
      "Inside function, mutable_arg modified to: [1, 2, 3, 100]\n",
      "\n",
      "Values after function call:\n",
      "num: 5\n",
      "my_list: [1, 2, 3, 100]\n"
     ]
    }
   ],
   "source": [
    "# 6 Write a function to demonstrate the behavior of mutable and immutable arguments\n",
    "\n",
    "num = 5\n",
    "my_list = [1, 2, 3]\n",
    "def modify_arguments(immutable_arg, mutable_arg):\n",
    "    \n",
    "    immutable_arg += 1  \n",
    "    print(\"Inside function, immutable_arg modified to:\", immutable_arg)\n",
    "    \n",
    "    \n",
    "    mutable_arg.append(100) \n",
    "    print(\"Inside function, mutable_arg modified to:\", mutable_arg)\n",
    "\n",
    "    # Returning the modified arguments\n",
    "    return immutable_arg, mutable_arg\n",
    "\n",
    "print(\"Original values before function call:\")\n",
    "print(\"num:\", num)\n",
    "print(\"my_list:\", my_list)\n",
    "\n",
    "modify_arguments(num, my_list)\n",
    "\n",
    "print(\"\\nValues after function call:\")\n",
    "print(\"num:\", num)  # num is modified because the function returns a new value\n",
    "print(\"my_list:\", my_list)  # my_list is modified because it's mutable\n"
   ]
  },
  {
   "cell_type": "code",
   "execution_count": null,
   "id": "a3758ae3",
   "metadata": {},
   "outputs": [],
   "source": [
    "# 7 Write a function to demonstrate the behavior of mutable and immutable arguments\n",
    "\n",
    "#Same as 6th Qusetion so answer N/A"
   ]
  },
  {
   "cell_type": "code",
   "execution_count": 58,
   "id": "ece66a74",
   "metadata": {},
   "outputs": [
    {
     "name": "stdout",
     "output_type": "stream",
     "text": [
      "True of OR operator\n",
      "-2\n"
     ]
    },
    {
     "data": {
      "text/plain": [
       "'-0b10'"
      ]
     },
     "execution_count": 58,
     "metadata": {},
     "output_type": "execute_result"
    }
   ],
   "source": [
    "#8 Write a program to demonstrate the use of logical operators\n",
    "\n",
    "x= True\n",
    "y= False\n",
    "\n",
    "if(x & y)== True:\n",
    "    print('True of AND operator')\n",
    "elif(x | y)== True:\n",
    "    print('True of OR operator')\n",
    "else: \n",
    "    ('False of both operators')\n",
    "    \n",
    "z=~x\n",
    "print(z) \n",
    "#Or do two complements of x value that is 1. 00000001-->11111110 \n",
    "#----> 1 in msb(left most bit is 1 so -ve num)--> Again inert and add 1\n",
    "#--> 00000001 + 1 -->00000010 --> 2(but -ve bcz of one in msb)\n",
    "bin(z)\n",
    "    "
   ]
  },
  {
   "cell_type": "code",
   "execution_count": 63,
   "id": "c43e5c46",
   "metadata": {},
   "outputs": [
    {
     "name": "stdout",
     "output_type": "stream",
     "text": [
      "Enter Name\n",
      "False\n"
     ]
    },
    {
     "ename": "ValueError",
     "evalue": "could not convert string to float: ",
     "output_type": "error",
     "traceback": [
      "\u001b[1;31m---------------------------------------------------------------------------\u001b[0m",
      "\u001b[1;31mValueError\u001b[0m                                Traceback (most recent call last)",
      "\u001b[1;32m<ipython-input-63-376a9d1ce08a>\u001b[0m in \u001b[0;36m<module>\u001b[1;34m\u001b[0m\n\u001b[0;32m      3\u001b[0m \u001b[0mUser_Input\u001b[0m \u001b[1;33m=\u001b[0m \u001b[0mstr\u001b[0m\u001b[1;33m(\u001b[0m\u001b[0minput\u001b[0m\u001b[1;33m(\u001b[0m\u001b[1;34m'Enter Name'\u001b[0m\u001b[1;33m)\u001b[0m\u001b[1;33m)\u001b[0m\u001b[1;33m\u001b[0m\u001b[1;33m\u001b[0m\u001b[0m\n\u001b[0;32m      4\u001b[0m \u001b[0mprint\u001b[0m\u001b[1;33m(\u001b[0m\u001b[0mbool\u001b[0m\u001b[1;33m(\u001b[0m\u001b[0mUser_Input\u001b[0m\u001b[1;33m)\u001b[0m\u001b[1;33m)\u001b[0m\u001b[1;33m\u001b[0m\u001b[1;33m\u001b[0m\u001b[0m\n\u001b[1;32m----> 5\u001b[1;33m \u001b[0mprint\u001b[0m\u001b[1;33m(\u001b[0m\u001b[0mfloat\u001b[0m\u001b[1;33m(\u001b[0m\u001b[0mUser_Input\u001b[0m\u001b[1;33m)\u001b[0m\u001b[1;33m)\u001b[0m\u001b[1;33m\u001b[0m\u001b[1;33m\u001b[0m\u001b[0m\n\u001b[0m\u001b[0;32m      6\u001b[0m \u001b[0mprint\u001b[0m\u001b[1;33m(\u001b[0m\u001b[0mint\u001b[0m\u001b[1;33m(\u001b[0m\u001b[0mUser_Input\u001b[0m\u001b[1;33m)\u001b[0m\u001b[1;33m)\u001b[0m\u001b[1;33m\u001b[0m\u001b[1;33m\u001b[0m\u001b[0m\n\u001b[0;32m      7\u001b[0m \u001b[1;33m\u001b[0m\u001b[0m\n",
      "\u001b[1;31mValueError\u001b[0m: could not convert string to float: "
     ]
    }
   ],
   "source": [
    "# 9 Write a Python program to convert user input from string to integer, float, and boolean types\n",
    "\n",
    "User_Input = str(input('Enter Name'))\n",
    "print(bool(User_Input))\n",
    "print(float(User_Input))\n",
    "print(int(User_Input))\n",
    "\n",
    "# String can't be converted to integer or float\n",
    "# The bool() function converts any non-empty string to True. \n",
    "#Even a string like \"0\" or \"False\" will return True unless it’s an empty string (\"\").\n"
   ]
  },
  {
   "cell_type": "code",
   "execution_count": 70,
   "id": "44f7128d",
   "metadata": {},
   "outputs": [
    {
     "name": "stdout",
     "output_type": "stream",
     "text": [
      "Study\n",
      "50.0\n",
      "40\n",
      "True\n",
      "False\n"
     ]
    }
   ],
   "source": [
    "# 10 Write code to demonstrate type casting with list elements\n",
    "School = ['Study', 'Notes', 50, 'English', 40.5, True, '']\n",
    "print(str(School[0]))\n",
    "print(float(School[2]))\n",
    "print(int(School[4]))\n",
    "print(bool(School[1]))\n",
    "print(bool(School[6]))"
   ]
  },
  {
   "cell_type": "code",
   "execution_count": 73,
   "id": "87304906",
   "metadata": {},
   "outputs": [
    {
     "name": "stdout",
     "output_type": "stream",
     "text": [
      "Enter the Number0\n",
      "Zero\n"
     ]
    }
   ],
   "source": [
    "# 11 Write a program that checks if a number is positive, negative, or zero\n",
    "num = int(input('Enter the Number'))\n",
    "if num==0:\n",
    "    print('Zero')\n",
    "elif num < 0:\n",
    "    print('Negative')\n",
    "else:\n",
    "    print('Positive')\n"
   ]
  },
  {
   "cell_type": "code",
   "execution_count": 82,
   "id": "5d8e2190",
   "metadata": {},
   "outputs": [
    {
     "name": "stdout",
     "output_type": "stream",
     "text": [
      "1\n",
      "2\n",
      "3\n",
      "4\n",
      "5\n",
      "6\n",
      "7\n",
      "8\n",
      "9\n",
      "10\n",
      "11\n",
      "12\n",
      "13\n",
      "14\n",
      "15\n",
      "16\n",
      "17\n",
      "18\n",
      "19\n",
      "20\n",
      "21\n",
      "22\n",
      "23\n",
      "24\n",
      "25\n",
      "26\n",
      "27\n",
      "28\n",
      "29\n",
      "30\n",
      "31\n",
      "32\n",
      "33\n",
      "34\n",
      "35\n",
      "36\n",
      "37\n",
      "38\n",
      "39\n",
      "40\n",
      "41\n",
      "42\n",
      "43\n",
      "44\n",
      "45\n",
      "46\n",
      "47\n",
      "48\n",
      "49\n",
      "50\n",
      "51\n",
      "52\n",
      "53\n",
      "54\n",
      "55\n",
      "56\n",
      "57\n",
      "58\n",
      "59\n",
      "60\n",
      "61\n",
      "62\n",
      "63\n",
      "64\n",
      "65\n",
      "66\n",
      "67\n",
      "68\n",
      "69\n",
      "70\n",
      "71\n",
      "72\n",
      "73\n",
      "74\n",
      "75\n",
      "76\n",
      "77\n",
      "78\n",
      "79\n",
      "80\n",
      "81\n",
      "82\n",
      "83\n",
      "84\n",
      "85\n",
      "86\n",
      "87\n",
      "88\n",
      "89\n",
      "90\n",
      "91\n",
      "92\n",
      "93\n",
      "94\n",
      "95\n",
      "96\n",
      "97\n",
      "98\n",
      "99\n",
      "100\n"
     ]
    }
   ],
   "source": [
    "# 12 Write a for loop to print numbers from 1 to 100\n",
    "# Loop through numbers from 1 to 100 (inclusive)\n",
    "\n",
    "for i in range(1, 101):\n",
    "    print(i)\n"
   ]
  },
  {
   "cell_type": "code",
   "execution_count": 85,
   "id": "63ca5400",
   "metadata": {},
   "outputs": [
    {
     "name": "stdout",
     "output_type": "stream",
     "text": [
      "62750\n"
     ]
    }
   ],
   "source": [
    "# 13 Write a Python program to find the sum of all even numbers between 1 and 500\n",
    "sum= 0\n",
    "for i in range(1, 501):\n",
    "    if i%2 == 0:\n",
    "        sum=sum+i\n",
    "print(sum)"
   ]
  },
  {
   "cell_type": "code",
   "execution_count": 89,
   "id": "1bbbcd34",
   "metadata": {},
   "outputs": [
    {
     "name": "stdout",
     "output_type": "stream",
     "text": [
      "Enter a string: PUSHPA\n",
      "Reversed string: APHSUP\n"
     ]
    }
   ],
   "source": [
    "# 14 Write a program to reverse a string using a while loop\n",
    "\n",
    "input_string = input(\"Enter a string: \")\n",
    "\n",
    "# Initialize variables\n",
    "reversed_string = \"\"\n",
    "index = len(input_string) - 1  \n",
    "\n",
    "while index >= 0:\n",
    "    reversed_string += input_string[index]  # Append the current character to the reversed string\n",
    "    index -= 1  # Move to the previous character\n",
    "\n",
    "print(\"Reversed string:\", reversed_string)\n"
   ]
  },
  {
   "cell_type": "code",
   "execution_count": 90,
   "id": "2e37b4ff",
   "metadata": {},
   "outputs": [
    {
     "name": "stdout",
     "output_type": "stream",
     "text": [
      "Enter a number: 2\n",
      "Factorial: 2\n"
     ]
    }
   ],
   "source": [
    "# 15 Write a Python program to calculate the factorial of a number provided by the user using a while loop.\n",
    "\n",
    "num = int(input(\"Enter a number: \"))\n",
    "\n",
    "fact=1  \n",
    "\n",
    "if num < 0:\n",
    "    print(\"Factorial does not exist for negative numbers.\")\n",
    "else:\n",
    "  \n",
    "    while num > 1:\n",
    "        fact*= num \n",
    "        num -= 1 \n",
    "print(\"Factorial:\", fact)\n"
   ]
  },
  {
   "cell_type": "code",
   "execution_count": null,
   "id": "aae9a84f",
   "metadata": {},
   "outputs": [],
   "source": []
  }
 ],
 "metadata": {
  "kernelspec": {
   "display_name": "Python 3.6 (tensorflow)",
   "language": "python",
   "name": "tensorflow"
  },
  "language_info": {
   "codemirror_mode": {
    "name": "ipython",
    "version": 3
   },
   "file_extension": ".py",
   "mimetype": "text/x-python",
   "name": "python",
   "nbconvert_exporter": "python",
   "pygments_lexer": "ipython3",
   "version": "3.6.13"
  }
 },
 "nbformat": 4,
 "nbformat_minor": 5
}
