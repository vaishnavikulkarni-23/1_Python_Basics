{
 "cells": [
  {
   "cell_type": "markdown",
   "id": "48a24107",
   "metadata": {},
   "source": [
    "1. What are data structures, and why are they important?\n",
    "Ans: \n",
    "Data Structures in Python & Their Importance:\n",
    "Data structures in Python are ways to store, organize, and manage data efficiently. They are crucial for optimizing performance, ensuring quick data access, and enabling efficient algorithm implementation. Python provides both built-in and user-defined data structures.\n",
    "\n",
    "1. Built-in Data Structures\n",
    "These are readily available in Python’s standard library:\n",
    "\n",
    "Lists (list) – Dynamic, ordered, mutable sequences (similar to arrays). Example: my_list = [1, 2, 3]\n",
    "Tuples (tuple) – Immutable, ordered collections. Example: my_tuple = (1, 2, 3)\n",
    "Sets (set) – Unordered collections of unique elements. Example: my_set = {1, 2, 3}\n",
    "Dictionaries (dict) – Key-value pairs for fast lookups. Example: my_dict = {'a': 1, 'b': 2}\n",
    "\n",
    "2. User-defined Data Structures\n",
    "Used for advanced data manipulation and efficiency:\n",
    "\n",
    "Stacks – Follows LIFO (Last In, First Out). Implemented using lists or collections.deque.\n",
    "Queues – Follows FIFO (First In, First Out). Implemented using collections.deque or queue.Queue.\n",
    "Linked Lists – Consist of nodes with data and pointers to the next node. Useful for dynamic memory allocation.\n",
    "Trees – Hierarchical structures like Binary Trees, BSTs, and Heaps for fast searching and sorting.\n",
    "Graphs – Nodes connected by edges, used in networking, social media, and shortest path algorithms.\n",
    "Importance of Data Structures in Python\n",
    "Efficiency – Helps optimize time and space complexity.\n",
    "Scalability – Enables handling large datasets efficiently.\n",
    "Code Readability – Python’s built-in structures simplify implementation.\n",
    "Application Development – Used in databases, AI/ML, web applications, and system programming.\n",
    "Understanding these structures is essential for writing optimized and scalable Python applications.\n",
    "\n",
    "2. Explain the difference between mutable and immutable data types with examples.\n",
    "Ans:\n",
    "Modifiability: Mutable data types can be changed after creation, while immutable data types cannot be modified once assigned.\n",
    "\n",
    "Memory Allocation: When a mutable object is modified, changes occur in the same memory location. In contrast, modifying an immutable object creates a new object in memory.\n",
    "\n",
    "Performance: Immutable objects are generally faster and safer for concurrent programming because their values remain constant. Mutable objects, however, allow in-place modifications, reducing memory overhead.\n",
    "\n",
    "\n",
    "Examples of Mutable Data Types: Lists (list), Sets (set), Dictionaries (dict), and Byte Arrays (bytearray).\n",
    "\n",
    "my_list = [1, 2, 3]\n",
    "my_list.append(4)  # List is modified\n",
    "print(my_list)  # Output: [1, 2, 3, 4]\n",
    "\n",
    "Examples of Immutable Data Types: Integers (int), Floats (float), Strings (str), Tuples (tuple), Frozen Sets (frozenset), and Bytes (bytes).\n",
    "\n",
    "my_tuple = (1, 2, 3)\n",
    "my_tuple[0] = 10  # This will raise an error\n",
    "\n",
    "3. What are the main differences between lists and tuples in Python.\n",
    "Ans:\n",
    "Main Differences Between Lists and Tuples in Python\n",
    "\n",
    "Mutability:\n",
    "Lists are mutable, meaning their elements can be modified after creation.\n",
    "Tuples are immutable, meaning once they are created, their elements cannot be changed.\n",
    "\n",
    "Syntax:\n",
    "Lists are defined using square brackets [].\n",
    "Example: my_list = [1, 2, 3]\n",
    "Tuples are defined using parentheses ().\n",
    "Example: my_tuple = (1, 2, 3)\n",
    "\n",
    "Performance:\n",
    "Lists have a larger memory overhead because they are dynamic and support modification.\n",
    "Tuples are faster and require less memory because they are immutable.\n",
    "\n",
    "Use Cases:\n",
    "Lists are used when you need a collection of items that can change (e.g., appending, removing, or modifying elements).\n",
    "Tuples are used when you need a collection of items that should remain constant and unchanged (e.g., storing fixed data).\n",
    "\n",
    "Methods:\n",
    "Lists have more built-in methods for modification (e.g., append(), remove(), extend(), pop()).\n",
    "Tuples have fewer methods because they are immutable (e.g., count(), index()).\n",
    "\n",
    "Iteration and Access:\n",
    "Both Lists and Tuples support iteration and element access, but since tuples are immutable, they are typically faster for iteration in performance-critical situations.\n",
    "\n",
    "Example:\n",
    "\n",
    "List:\n",
    "my_list = [1, 2, 3]\n",
    "my_list.append(4)  # Modifying the list\n",
    "print(my_list)  # Output: [1, 2, 3, 4]\n",
    "\n",
    "Tuple:\n",
    "my_tuple = (1, 2, 3)\n",
    "# my_tuple.append(4)  # This would raise an AttributeError since tuples are immutable\n",
    "print(my_tuple)  # Output: (1, 2, 3)\n",
    "\n",
    "lists are used when you need to modify data frequently, while tuples are preferred for fixed, constant data that should not be changed.\n",
    "\n",
    "4. Describe how dictionaries store data.\n",
    "Ans:\n",
    "In Python, a dictionary is an unordered collection of key-value pairs. It is implemented using a hash table, which allows for efficient data retrieval. Here's how dictionaries work:\n",
    "\n",
    "Key-Value Pairs:\n",
    "Each element in a dictionary consists of a key and an associated value. The key is unique, and the value can be of any data type.\n",
    "Example:\n",
    "my_dict = {'name': 'Alice', 'age': 25}\n",
    "Here, 'name' and 'age' are keys, while 'Alice' and 25 are their corresponding values.\n",
    "\n",
    "Hashing:\n",
    "Keys in a dictionary are hashed to produce a unique index that helps in fast access to their associated values.\n",
    "The hash function is used to map the key to a location in memory, ensuring that lookups, insertions, and deletions are generally done in constant time (O(1)).\n",
    "\n",
    "Efficiency:\n",
    "Lookups (accessing the value associated with a key) are typically very fast due to the hash table mechanism.\n",
    "However, dictionaries are unordered, meaning the keys are not stored in any specific order, and their order may vary.\n",
    "\n",
    "Mutability:\n",
    "Dictionaries are mutable, meaning you can modify them after creation by adding, removing, or updating key-value pairs.\n",
    "\n",
    "Collision Handling:\n",
    "When two keys produce the same hash (a hash collision), Python uses techniques like open addressing or chaining to handle collisions and ensure unique key-value mappings.\n",
    "Example of Dictionary Usage:\n",
    "\n",
    "my_dict = {'name': 'Alice', 'age': 25, 'city': 'New York'}\n",
    "# Access value by key\n",
    "print(my_dict['name'])  # Output: Alice\n",
    "\n",
    "# Add a new key-value pair\n",
    "my_dict['job'] = 'Engineer'\n",
    "\n",
    "# Update value for an existing key\n",
    "my_dict['age'] = 26\n",
    "\n",
    "# Remove a key-value pair\n",
    "del my_dict['city']\n",
    "\n",
    "print(my_dict)  # Output: {'name': 'Alice', 'age': 26, 'job': 'Engineer'}\n",
    "\n",
    "Summary:\n",
    "In Python, dictionaries store data as key-value pairs. They use a hash table for efficient lookups, meaning each key is hashed to a unique index for fast access.\n",
    "\n",
    "Keys must be unique and immutable (e.g., strings, numbers, tuples).\n",
    "Values can be any data type.\n",
    "Efficiency: Operations like insertion, lookup, and deletion are O(1) on average due to the hash table structure.\n",
    "Mutability: Dictionaries are mutable, allowing you to add, modify, or remove key-value pairs.\n",
    "Collisions: Hash collisions are handled internally, ensuring reliable storage.\n",
    "\n",
    "5. Why might you use a set instead of a list in Python.\n",
    "Ans:\n",
    "You might use a set instead of a list in Python for the following reasons:\n",
    "\n",
    "Uniqueness: Sets automatically remove duplicate elements. If you need to ensure that all items are unique, a set is a good choice.\n",
    "\n",
    "Efficiency: Sets provide faster membership testing (using in) and faster removal or addition of elements compared to lists. This is due to the underlying hash table structure of sets.\n",
    "\n",
    "Mathematical operations: Sets support mathematical operations like union, intersection, difference, and symmetric difference, which can be done more efficiently than with lists.\n",
    "\n",
    "Order does not matter: If the order of the elements is not important, a set is a better choice because lists maintain order while sets do not.\n",
    "\n",
    "So, if you need unique items, fast lookups, or set operations, sets are more appropriate than lists.\n",
    "\n",
    "6. What is a string in Python, and how is it different from a list.\n",
    "Ans:\n",
    "In Python, a string is a sequence of characters enclosed in single quotes (') or double quotes (\"). Strings are used to represent text-based data.\n",
    "\n",
    "Key differences between a string and a list:\n",
    "\n",
    "Mutability:\n",
    "A string is immutable, meaning once it is created, you cannot change its contents (like modifying individual characters).\n",
    "A list is mutable, meaning you can modify, add, or remove elements after the list is created.\n",
    "\n",
    "Data type:\n",
    "A string is a sequence of characters (text).\n",
    "A list can hold multiple types of elements (strings, integers, floats, etc.) and not just text.\n",
    "\n",
    "Operations:\n",
    "Strings support operations like concatenation, slicing, and formatting.\n",
    "Lists support operations like indexing, slicing, appending, removing, and changing individual elements.\n",
    "\n",
    "Usage:\n",
    "Strings are typically used to represent text.\n",
    "Lists are used to store a collection of items, which could be of any type.\n",
    "\n",
    "Example:\n",
    "string example\n",
    "my_string = \"Hello, world!\"\n",
    "\n",
    "List Example\n",
    "my_list = [1, 2, 3, 'Hello']\n",
    "\n",
    "7. How do tuples ensure data integrity in Python?\n",
    "Ans:\n",
    "Tuples ensure data integrity in Python by being immutable. Once a tuple is created, its elements cannot be modified, added, or removed. This immutability provides the following benefits:\n",
    "\n",
    "Protection from accidental modification: Since tuples cannot be altered after creation, their data is protected from being accidentally changed, which ensures the integrity of the data over time.\n",
    "\n",
    "Consistency: Tuples maintain the exact order and content of their elements, making them reliable for scenarios where you need to ensure that the data stays consistent and unchanged.\n",
    "\n",
    "Performance: The immutability of tuples allows Python to optimize memory usage and performance, especially when working with large datasets or using tuples as keys in dictionaries or elements in sets, which wouldn't be possible with mutable types like lists.\n",
    "\n",
    "Hashability: Because tuples are immutable, they are hashable, meaning they can be used as keys in dictionaries and elements in sets, which requires the data to remain constant.\n",
    "\n",
    "In short, tuples guarantee that once data is stored, it cannot be accidentally modified, thus maintaining its integrity throughout the program.\n",
    "\n",
    "8. What is a hash table, and how does it relate to dictionaries in Python?\n",
    "Ans:\n",
    "A hash table is a data structure that stores key-value pairs and allows for efficient lookup, insertion, and deletion operations. It works by applying a hash function to a key to compute an index (hash value) in an internal array where the value associated with the key is stored.\n",
    "\n",
    "How it works:\n",
    "Hashing: The hash function takes the key (like a string or number) and converts it into a fixed-size integer, which determines the index in the table.\n",
    "Buckets: The hash table has \"buckets\" or \"slots\" where the data is stored. Each bucket corresponds to a unique index generated by the hash function.\n",
    "Collision Resolution: If two keys hash to the same index (a collision), various methods (like chaining or open addressing) are used to resolve the conflict.\n",
    "\n",
    "Relation to Dictionaries in Python:\n",
    "In Python, dictionaries (dict) are implemented using a hash table internally. This allows them to provide efficient average-time complexity of O(1) for lookup, insertion, and deletion operations.\n",
    "Keys in Python dictionaries are hashed, and the hash value determines where the corresponding value will be stored in the table.\n",
    "\n",
    "Uniqueness of Keys: Since dictionary keys must be unique, the hash table ensures that no two keys can hash to the same index without collision handling.\n",
    "Example:\n",
    "\n",
    "my_dict = {'apple': 1, 'banana': 2}\n",
    "In this example:\n",
    "\n",
    "The keys 'apple' and 'banana' are hashed to different indices.\n",
    "The values 1 and 2 are stored at those corresponding indices.\n",
    "Overall, the concept of a hash table enables dictionaries in Python to efficiently store and retrieve key-value pairs, making them a powerful and fast data structure.\n",
    "\n",
    "9. Can lists contain different data types in Python.\n",
    "Ans:\n",
    "Yes, lists in Python can contain different data types. A single list can store elements of any type, such as integers, strings, floats, other lists, or even objects.\n",
    "\n",
    "Example:\n",
    "python\n",
    "Copy\n",
    "Edit\n",
    "my_list = [1, \"hello\", 3.14, True, [1, 2, 3]]\n",
    "In this list:\n",
    "\n",
    "1 is an integer.\n",
    "\"hello\" is a string.\n",
    "3.14 is a float.\n",
    "True is a boolean.\n",
    "[1, 2, 3] is another list.\n",
    "\n",
    "This flexibility is one of the key features of Python's list data structure, allowing you to combine multiple data types in a single list depending on the needs of your program.\n",
    "\n",
    "10. Explain why strings are immutable in Python.\n",
    "Ans:\n",
    "Strings are immutable in Python for the following reasons:\n",
    "\n",
    "Efficiency: Immutable objects like strings are more memory-efficient. Since strings can't be modified, Python can optimize memory usage by reusing the same string object when possible, rather than creating new objects every time a string is altered.\n",
    "\n",
    "Data Integrity: Immutability ensures that once a string is created, it cannot be accidentally changed, which helps maintain data integrity. This is particularly useful when strings are used as keys in dictionaries or elements in sets, where their value should remain constant.\n",
    "\n",
    "Security and Hashing: Immutable strings provide a stable hash value. Since strings are often used in hashing (for example, as dictionary keys), their immutability guarantees that the hash value remains the same throughout their lifetime, ensuring the reliability of lookups and comparisons.\n",
    "\n",
    "Consistency: Allowing strings to be immutable ensures consistent behavior across Python programs. It simplifies reasoning about code because you don’t have to worry about strings changing unexpectedly during execution.\n",
    "\n",
    "Real-life analogy:\n",
    "Imagine a name tag on a person at a conference. Once it's printed, it can't be changed—this ensures that everyone can rely on the fact that the name on the tag is fixed and won't suddenly change, making the conference smoother and more predictable. Similarly, Python strings, once created, remain unchanged for the duration of their use in a program.\n",
    "\n",
    "11. What advantages do dictionaries offer over lists for certain tasks?\n",
    "Ans:\n",
    "Advantages of Dictionaries:\n",
    "\n",
    "Fast Lookup:\n",
    "Dictionaries provide O(1) average-time complexity for lookups by key, whereas lists require O(n) for searching through elements by index or value.\n",
    "If you need to retrieve an item quickly based on a unique identifier, dictionaries are much more efficient.\n",
    "Example: If you need to retrieve a contact's phone number using their name, a dictionary allows you to access it instantly by the key (the name).\n",
    "\n",
    "Key-Value Pair Storage:\n",
    "Dictionaries store data as key-value pairs, which is ideal when you need to associate a value with a unique key (e.g., storing product prices with product names, or student IDs with student details).\n",
    "Lists only store a sequence of items, and you'd need to handle key-value relationships manually.\n",
    "Example:\n",
    "product_prices = {\"apple\": 1.5, \"banana\": 0.8, \"cherry\": 2.0}\n",
    "You can directly access product_prices[\"apple\"] to get the price of an apple.\n",
    "\n",
    "Uniqueness of Keys:\n",
    "In a dictionary, keys must be unique, so you don't need to worry about duplicate keys, unlike in lists where duplicates are allowed.\n",
    "This feature is useful when you need to ensure that each key corresponds to a single, unique value.\n",
    "\n",
    "Flexible Keys:\n",
    "Dictionary keys can be almost any immutable data type (strings, numbers, tuples), while list elements are indexed by integers, which can be limiting.\n",
    "\n",
    "Efficient Deletion and Insertion:\n",
    "Adding or removing items in a dictionary is generally faster than in a list, especially if the list needs to be reordered after deletion.\n",
    "\n",
    "Example:\n",
    "Imagine you're building a student database:\n",
    "\n",
    "In a list, you would need to loop through all entries to find a student by their ID, which is inefficient.\n",
    "In a dictionary, you can directly access the student’s data by their ID.\n",
    "\n",
    "students = {1001: \"John\", 1002: \"Jane\", 1003: \"Sam\"}\n",
    "student_name = students[1002]  # \"Jane\"\n",
    "dictionaries excel in situations where fast lookups, key-value associations, and unique identifiers are needed, whereas lists are better for ordered collections of data.\n",
    "\n",
    "12. Describe a scenario where using a tuple would be preferable over a list.\n",
    "Ans:\n",
    "A tuple would be preferable over a list in situations where the data should not be modified and immutability is important.\n",
    "\n",
    "Scenario: Storing Geographic Coordinates\n",
    "Imagine you're working on a mapping application where you need to store geographic coordinates (latitude and longitude). These coordinates represent a fixed point on the Earth, and you don't want them to change once they're set.\n",
    "\n",
    "Why Use a Tuple:\n",
    "Immutability: Since the geographic coordinates (latitude and longitude) should remain constant, using a tuple ensures that they cannot be altered accidentally during the program execution.\n",
    "Efficiency: Tuples are more memory efficient and faster to process than lists because they are immutable.\n",
    "Hashable: If you need to store these coordinates as keys in a dictionary or in a set, tuples are hashable, while lists are not.\n",
    "Example:\n",
    "#storing geograogic cootrdinates as a tuple\n",
    "coordinates = (40.7128, -74.0060)  # Latitude and Longitude of New York City \n",
    "#Attempting to modify the coordinates would raise an error \n",
    "#coordinates[0] = 41.0 #This would raise a TypeError because tuples are immutable\n",
    "\n",
    "In this case, using a tuple provides assurance that the coordinates will remain unchanged, which is essential for the integrity of location-based calculations and comparisons. It also allows these coordinates to be used as dictionary keys if needed.\n",
    "\n",
    "13. How do sets handle duplicate values in Python.\n",
    "Ans:\n",
    "In Python, sets automatically remove duplicate values. Since a set is a collection of unique elements, it doesn't allow duplicates. When you try to add a duplicate element to a set, the set will simply ignore it, ensuring that every element in the set is unique.\n",
    "\n",
    "How It Works:\n",
    "When you add an element to a set, Python checks if the element already exists in the set. If it does, the element is not added again.\n",
    "If the element is unique, it will be added to the set.\n",
    "\n",
    "Real-life analogy:\n",
    "Think of a set like a guest list for an event. If someone tries to RSVP (RSVP stands for the French phrase \"Répondez s'il vous plaît,\" which translates to \"Please respond.\" It is typically used in invitations to ask the invited person to confirm whether they will be attending an event, such as a party or wedding.)more than once, they will only be added to the list once, ensuring that each guest is only counted once.\n",
    "\n",
    "In summary, sets in Python automatically handle duplicates by only keeping unique elements, making them useful when you need to store a collection of distinct items.\n",
    "\n",
    "14. How does the “in” keyword work differently for lists and dictionaries?\n",
    "Ans:\n",
    "The in keyword works differently for lists and dictionaries in Python because it checks for membership in different ways:\n",
    "\n",
    "1. For Lists:\n",
    "The in keyword checks if a value is present in the list. It scans the entire list to find if the given value exists.\n",
    "Membership check is done based on the value itself.\n",
    "Example with a list:\n",
    "my_list = [1, 2, 3, 4] #checking if the value exist in a list.\n",
    "print(3 in my_list)  # Output: True\n",
    "print(5 in my_list)  # Output: False\n",
    "\n",
    "2. For Dictionaries:\n",
    "The in keyword checks if a key exists in the dictionary, not the value.\n",
    "Membership check is done based on the keys in the dictionary.\n",
    "Example with a dictionary:\n",
    "my_dict = {\"apple\": 1, \"banana\": 2, \"cherry\": 3} #checking if a key exists in the dictionary\n",
    "print(\"apple\" in my_dict)  # Output: True\n",
    "print(\"grape\" in my_dict)  # Output: False\n",
    "\n",
    "For lists, in checks if the value exists.\n",
    "For dictionaries, in checks if the key exists.\n",
    "\n",
    "15. Can you modify the elements of a tuple? Explain why or why not.\n",
    "Ans:\n",
    "No, you cannot modify the elements of a tuple in Python because tuples are immutable.\n",
    "\n",
    "Why Tuples Are Immutable:\n",
    "Immutability means that once a tuple is created, its content cannot be changed—no elements can be added, removed, or altered.\n",
    "This property ensures data integrity and is useful in scenarios where you want to guarantee that the data remains consistent throughout the program.\n",
    "\n",
    "my_tuple = (1, 2, 3)# Attempting to modify an element will raise an error# my_tuple[0] = 10  # This will raise a TypeError\n",
    "Why Immutability Is Useful:\n",
    "Performance: Tuples are more memory efficient and faster than lists because they cannot be modified.\n",
    "Safety: When you need to ensure that data doesn't change unexpectedly (like for fixed values or as keys in a dictionary), immutability guarantees that no changes can occur.\n",
    "Hashable: Since tuples are immutable, they can be used as keys in dictionaries or elements in sets, unlike lists.\n",
    "In summary, you cannot modify the elements of a tuple because they are immutable, ensuring consistency, reliability, and efficiency in your code.\n",
    "\n",
    "16. What is a nested dictionary, and give an example of its use case.\n",
    "Ans:\n",
    "A nested dictionary in Python is a dictionary where the values themselves are dictionaries. This allows you to create more complex data structures by nesting dictionaries within dictionaries.\n",
    "\n",
    "Use Case Example: Storing Employee Information\n",
    "Imagine you are managing employee data for a company. Each employee has a name, department, and a list of skills. A nested dictionary allows you to organize this data efficiently.\n",
    "\n",
    "Example:\n",
    "employees = {\n",
    "    \"emp001\": {\n",
    "        \"name\": \"John Doe\",\n",
    "        \"department\": \"HR\",\n",
    "        \"skills\": [\"recruitment\", \"interviewing\", \"communication\"]\n",
    "    },\n",
    "    \"emp002\": {\n",
    "        \"name\": \"Jane Smith\",\n",
    "        \"department\": \"Finance\",\n",
    "        \"skills\": [\"accounting\", \"budgeting\", \"forecasting\"]\n",
    "    }\n",
    "}# Accessing nested dictionary values\n",
    "print(employees[\"emp001\"][\"name\"])  # Output: John Doe\n",
    "print(employees[\"emp002\"][\"skills\"])  # Output: ['accounting', 'budgeting', 'forecasting']\n",
    "\n",
    "When to Use a Nested Dictionary:\n",
    "Complex data structures: When you need to represent relationships between different levels of data.\n",
    "Hierarchical data: When data can be categorized or grouped, such as storing information about products, departments, or categories.\n",
    "\n",
    "17. Describe the time complexity of accessing elements in a dictionary.\n",
    "Ans:\n",
    "The time complexity of accessing elements in a dictionary in Python is O(1) on average. This means that retrieving a value using a key takes constant time, regardless of the size of the dictionary.\n",
    "\n",
    "Why O(1) Time Complexity?\n",
    "Python dictionaries are implemented using a hash table. When you access a value using a key, Python applies a hash function to the key, which generates an index in the hash table.\n",
    "This index is used to directly locate the value, so the lookup process does not depend on the size of the dictionary. This results in constant time complexity.\n",
    "my_dict = {\"apple\": 1, \"banana\": 2, \"cherry\": 3}# Accessing a value by key takes O(1) time on average\n",
    "print(my_dict[\"banana\"])  # Output: 2\n",
    "\n",
    "Worst-case Scenario:\n",
    "In rare cases, such as hash collisions, the time complexity could degrade to O(n), where n is the number of elements in the dictionary. However, Python uses strategies like open addressing and chaining to handle collisions efficiently, so the average time complexity remains O(1).\n",
    "Summary:\n",
    "Average case: O(1) for accessing elements by key.\n",
    "Worst case: O(n), but this happens infrequently due to efficient collision handling.\n",
    "\n",
    "18. In what situations are lists preferred over dictionaries.\n",
    "Ans:\n",
    "Lists are preferred over dictionaries in the following situations:\n",
    "\n",
    "When the order of elements matters: Lists maintain insertion order, making them suitable when the sequence of items is important (e.g., playlists, queues).\n",
    "When elements need to be accessed by index: Lists allow accessing elements using indices, making them ideal when position-based access is required.\n",
    "When storing multiple values of the same type: Lists are ideal for storing collections of similar items without the need for unique keys (e.g., test scores, numbers).\n",
    "When modifying or appending elements: Lists allow easy modification, appending, and removing of elements, making them versatile for dynamic collections.\n",
    "When you don't need key-value pairs: Lists are simpler when only sequential data is needed, without the need for unique key-value associations.\n",
    "In summary, use lists when you need ordered, indexable, and mutable collections of similar items.\n",
    "\n",
    "19. Why are dictionaries considered unordered, and how does that affect data retrieval?\n",
    "Ans:\n",
    "Dictionaries in Python are considered unordered because the items (key-value pairs) are not stored in a specific sequence. The order of insertion of elements in a dictionary is not guaranteed (though, starting from Python 3.7, insertion order is preserved, but this should not be relied upon for logic based on order).\n",
    "\n",
    "Why Dictionaries Are Unordered:\n",
    "Hashing Mechanism: Python dictionaries are implemented using hash tables, where the keys are hashed to compute a unique index for storing values. This mechanism allows fast lookups but does not maintain a predictable order of the items.\n",
    "No Indexing: Unlike lists, dictionaries don’t have integer-based indexing or an inherent order for elements. You access data in a dictionary using keys, not by their position.\n",
    "Effect on Data Retrieval:\n",
    "Faster Lookups: The unordered nature of dictionaries doesn't affect data retrieval in terms of speed. You can access a value by its key in O(1) average time, which is very efficient. The lack of order does not impact how quickly you can retrieve values.\n",
    "Key-Based Access: Since you access dictionary values via keys, there’s no need to worry about the order of the items when retrieving data. What matters is the key you provide, not its position.\n",
    "my_dict = {\"apple\": 1, \"banana\": 2, \"cherry\": 3} # Accessing by key (doesn't depend on insertion order)\n",
    "print(my_dict[\"banana\"])  # Output: 2\n",
    "\n",
    "Dictionaries are unordered because they are implemented using hash tables, which do not guarantee any specific order. However, this does not affect data retrieval because you access values using keys, and lookups are fast and efficient.\n",
    "\n",
    "20. Explain the difference between a list and a dictionary in terms of data retrieval.\n",
    "Ans:\n",
    "List:\n",
    "Access by Index: In a list, data is accessed using an index. The elements in a list are ordered, meaning each element has a position (or index) that allows you to retrieve it directly.\n",
    "Order-based: Lists are ordered, so you can retrieve elements based on their position in the sequence (0-based index).\n",
    "Time Complexity: Accessing an element by its index takes O(1) time (constant time).\n",
    "\n",
    "my_list = [10, 20, 30, 40] # Accessing an element by index\n",
    "print(my_list[2])  # Output: 30\n",
    "\n",
    "Dictionary:\n",
    "Access by Key: In a dictionary, data is accessed using a key. Dictionaries store data as key-value pairs, so you retrieve the value by providing the corresponding key.\n",
    "Unordered (historically): Dictionaries are unordered (though Python 3.7+ maintains insertion order, it's not guaranteed for logic). Retrieval depends on the key, not the position.\n",
    "Time Complexity: Accessing a value by its key takes O(1) time (constant time) on average due to the hash table implementation.\n",
    "\n",
    "my_dict = {\"apple\": 1, \"banana\": 2, \"cherry\": 3} # Accessing a value by key\n",
    "print(my_dict[\"banana\"])  # Output: 2\n",
    "\n",
    "Key Differences:\n",
    "Data Retrieval:\n",
    "List: Retrieve data by index.\n",
    "Dictionary: Retrieve data by key.\n",
    "Order:\n",
    "List: Data is ordered, and the index defines the position.\n",
    "Dictionary: Data is unordered (though insertion order is maintained from Python 3.7+).\n",
    "Data Structure:\n",
    "List: A sequence of elements.\n",
    "Dictionary: A collection of key-value pairs."
   ]
  },
  {
   "cell_type": "code",
   "execution_count": 4,
   "id": "8406d3e1",
   "metadata": {},
   "outputs": [
    {
     "name": "stdout",
     "output_type": "stream",
     "text": [
      "Enter the Name Vaishnavi\n",
      "Vaishnavi\n"
     ]
    }
   ],
   "source": [
    "#1 Write a code to create a string with your name and print it.\n",
    "\n",
    "Name = str(input('Enter the Name '))\n",
    "print(Name)"
   ]
  },
  {
   "cell_type": "code",
   "execution_count": 5,
   "id": "da285c83",
   "metadata": {},
   "outputs": [
    {
     "data": {
      "text/plain": [
       "11"
      ]
     },
     "execution_count": 5,
     "metadata": {},
     "output_type": "execute_result"
    }
   ],
   "source": [
    "#2 Write a code to find the length of the string \"Hello World\".\n",
    "msg='Hello World'\n",
    "len(msg)"
   ]
  },
  {
   "cell_type": "code",
   "execution_count": 6,
   "id": "6458a5ff",
   "metadata": {},
   "outputs": [
    {
     "data": {
      "text/plain": [
       "'Pyt'"
      ]
     },
     "execution_count": 6,
     "metadata": {},
     "output_type": "execute_result"
    }
   ],
   "source": [
    "#3 Write a code to slice the first 3 characters from the string \"Python Programming\".\n",
    "read= \"Python Programming\"\n",
    "read[:3]"
   ]
  },
  {
   "cell_type": "code",
   "execution_count": 7,
   "id": "378604ba",
   "metadata": {},
   "outputs": [
    {
     "data": {
      "text/plain": [
       "'HELLO'"
      ]
     },
     "execution_count": 7,
     "metadata": {},
     "output_type": "execute_result"
    }
   ],
   "source": [
    "#4 Write a code to convert the string \"hello\" to uppercase.\n",
    "say=\"hello\"\n",
    "say.upper()"
   ]
  },
  {
   "cell_type": "code",
   "execution_count": 11,
   "id": "6ac5d53a",
   "metadata": {},
   "outputs": [
    {
     "name": "stdout",
     "output_type": "stream",
     "text": [
      "I like orange\n"
     ]
    }
   ],
   "source": [
    "#5 Write a code to replace the word \"apple\" with \"orange\" in the string \"I like apple\".\n",
    "text = \"I like apple\"\n",
    "new_text = text.replace(\"apple\", \"orange\")\n",
    "print(new_text)  # Output: I like orange\n"
   ]
  },
  {
   "cell_type": "code",
   "execution_count": null,
   "id": "ea9372de",
   "metadata": {},
   "outputs": [],
   "source": [
    "# Alternative way\n",
    "text = \"I like apple\"\n",
    "\n",
    "# Convert string to list (split by spaces)\n",
    "words = text.split()\n",
    "\n",
    "# Replace the word\n",
    "for i in range(len(words)):\n",
    "    if words[i] == \"apple\":\n",
    "        words[i] = \"orange\"\n",
    "\n",
    "# Convert list back to string\n",
    "new_text = \" \".join(words)\n",
    "\n",
    "print(new_text)  # Output: I like orange\n"
   ]
  },
  {
   "cell_type": "code",
   "execution_count": 12,
   "id": "faae30f4",
   "metadata": {},
   "outputs": [
    {
     "name": "stdout",
     "output_type": "stream",
     "text": [
      "[1, 2, 3, 4, 5]\n"
     ]
    }
   ],
   "source": [
    "#6 Write a code to create a list with numbers 1 to 5 and print it.\n",
    "numbers = [1, 2, 3, 4, 5]\n",
    "print(numbers)\n"
   ]
  },
  {
   "cell_type": "code",
   "execution_count": 13,
   "id": "a3ea59c6",
   "metadata": {},
   "outputs": [],
   "source": [
    "#7 Write a code to append the number 10 to the list [1, 2, 3, 4].\n",
    "list=[1,2,3,4]\n",
    "list.append(10)"
   ]
  },
  {
   "cell_type": "code",
   "execution_count": 14,
   "id": "91295371",
   "metadata": {},
   "outputs": [
    {
     "data": {
      "text/plain": [
       "[1, 2, 3, 4, 10]"
      ]
     },
     "execution_count": 14,
     "metadata": {},
     "output_type": "execute_result"
    }
   ],
   "source": [
    "list"
   ]
  },
  {
   "cell_type": "code",
   "execution_count": 15,
   "id": "d8ea5722",
   "metadata": {},
   "outputs": [
    {
     "data": {
      "text/plain": [
       "[1, 2, 4, 5]"
      ]
     },
     "execution_count": 15,
     "metadata": {},
     "output_type": "execute_result"
    }
   ],
   "source": [
    "#8 Write a code to remove the number 3 from the list [1, 2, 3, 4, 5]\n",
    "list=[1, 2, 3, 4, 5]\n",
    "list.remove(3)\n",
    "list"
   ]
  },
  {
   "cell_type": "code",
   "execution_count": 16,
   "id": "b9f7941e",
   "metadata": {},
   "outputs": [
    {
     "data": {
      "text/plain": [
       "'b'"
      ]
     },
     "execution_count": 16,
     "metadata": {},
     "output_type": "execute_result"
    }
   ],
   "source": [
    "#9 Write a code to access the second element in the list ['a', 'b', 'c', 'd'].\n",
    "list=['a', 'b', 'c', 'd']\n",
    "list[1]"
   ]
  },
  {
   "cell_type": "code",
   "execution_count": 17,
   "id": "2c39880b",
   "metadata": {},
   "outputs": [
    {
     "data": {
      "text/plain": [
       "[50, 40, 30, 20, 10]"
      ]
     },
     "execution_count": 17,
     "metadata": {},
     "output_type": "execute_result"
    }
   ],
   "source": [
    "#10 Write a code to reverse the list [10, 20, 30, 40, 50].\n",
    "list= [10, 20, 30, 40, 50]\n",
    "list[::-1]"
   ]
  },
  {
   "cell_type": "code",
   "execution_count": 18,
   "id": "fc85f704",
   "metadata": {},
   "outputs": [
    {
     "data": {
      "text/plain": [
       "(100, 200, 300)"
      ]
     },
     "execution_count": 18,
     "metadata": {},
     "output_type": "execute_result"
    }
   ],
   "source": [
    "#11 Write a code to create a tuple with the elements 100, 200, 300 and print it.\n",
    "t=(100,200,300)\n",
    "t"
   ]
  },
  {
   "cell_type": "code",
   "execution_count": 19,
   "id": "80760d88",
   "metadata": {},
   "outputs": [
    {
     "data": {
      "text/plain": [
       "('green', 'blue', 'yellow')"
      ]
     },
     "execution_count": 19,
     "metadata": {},
     "output_type": "execute_result"
    }
   ],
   "source": [
    "#12. Write a code to access the second-to-last element of the tuple ('red', 'green', 'blue', 'yellow').\n",
    "tuple=('red', 'green', 'blue', 'yellow')\n",
    "tuple[1:]"
   ]
  },
  {
   "cell_type": "code",
   "execution_count": 20,
   "id": "bfb425e3",
   "metadata": {},
   "outputs": [
    {
     "data": {
      "text/plain": [
       "5"
      ]
     },
     "execution_count": 20,
     "metadata": {},
     "output_type": "execute_result"
    }
   ],
   "source": [
    "# 13. Write a code to find the minimum number in the tuple (10, 20, 5, 15).\n",
    "tuple=(10, 20, 5, 15)\n",
    "min(tuple)"
   ]
  },
  {
   "cell_type": "code",
   "execution_count": 21,
   "id": "530af510",
   "metadata": {},
   "outputs": [
    {
     "data": {
      "text/plain": [
       "1"
      ]
     },
     "execution_count": 21,
     "metadata": {},
     "output_type": "execute_result"
    }
   ],
   "source": [
    "#14. Write a code to find the index of the element \"cat\" in the tuple ('dog', 'cat', 'rabbit').\n",
    "tuple=('dog', 'cat', 'rabbit')\n",
    "tuple.index('cat')"
   ]
  },
  {
   "cell_type": "code",
   "execution_count": 22,
   "id": "43ac5e15",
   "metadata": {},
   "outputs": [
    {
     "data": {
      "text/plain": [
       "True"
      ]
     },
     "execution_count": 22,
     "metadata": {},
     "output_type": "execute_result"
    }
   ],
   "source": [
    "#15. Write a code to create a tuple containing three different fruits and check if \"kiwi\" is in it.\n",
    "fruits=('APPLE','BANANA','KIWI')\n",
    "'KIWI' in fruits"
   ]
  },
  {
   "cell_type": "code",
   "execution_count": 23,
   "id": "e8e54bfc",
   "metadata": {},
   "outputs": [
    {
     "data": {
      "text/plain": [
       "{'a', 'b', 'c'}"
      ]
     },
     "execution_count": 23,
     "metadata": {},
     "output_type": "execute_result"
    }
   ],
   "source": [
    "#16. Write a code to create a set with the elements 'a', 'b', 'c' and print it.\n",
    "set={'a', 'b', 'c' }\n",
    "set"
   ]
  },
  {
   "cell_type": "code",
   "execution_count": 25,
   "id": "f70fa245",
   "metadata": {},
   "outputs": [
    {
     "data": {
      "text/plain": [
       "set()"
      ]
     },
     "execution_count": 25,
     "metadata": {},
     "output_type": "execute_result"
    }
   ],
   "source": [
    "#17. Write a code to clear all elements from the set {1, 2, 3, 4, 5}.\n",
    "set= {1, 2, 3, 4, 5}\n",
    "set.clear()\n",
    "set"
   ]
  },
  {
   "cell_type": "code",
   "execution_count": 26,
   "id": "5c087e1d",
   "metadata": {},
   "outputs": [
    {
     "data": {
      "text/plain": [
       "{1, 2, 3}"
      ]
     },
     "execution_count": 26,
     "metadata": {},
     "output_type": "execute_result"
    }
   ],
   "source": [
    "#18. Write a code to remove the element 4 from the set {1, 2, 3, 4}.\n",
    "set={1, 2, 3, 4}\n",
    "set.remove(4)\n",
    "set"
   ]
  },
  {
   "cell_type": "code",
   "execution_count": 33,
   "id": "ab8024f1",
   "metadata": {},
   "outputs": [
    {
     "name": "stdout",
     "output_type": "stream",
     "text": [
      "{1, 2, 3, 4, 5}\n"
     ]
    }
   ],
   "source": [
    "#19. Write a code to find the union of two sets {1, 2, 3} and {3, 4, 5}.\n",
    "set1 = {1, 2, 3}\n",
    "set2 = {3, 4, 5}\n",
    "\n",
    "# Using | operator\n",
    "union_set = set1 | set2\n",
    "\n",
    "# Using union() method\n",
    "# union_set = set1.union(set2)\n",
    "\n",
    "print(union_set)  "
   ]
  },
  {
   "cell_type": "code",
   "execution_count": 35,
   "id": "b29ba537",
   "metadata": {},
   "outputs": [
    {
     "data": {
      "text/plain": [
       "{2, 3}"
      ]
     },
     "execution_count": 35,
     "metadata": {},
     "output_type": "execute_result"
    }
   ],
   "source": [
    "#20. Write a code to find the intersection of two sets {1, 2, 3} and {2, 3, 4}.\n",
    "set1= {1, 2, 3} \n",
    "set2= {2, 3, 4}\n",
    "set3=set1 & set2\n",
    "set3"
   ]
  },
  {
   "cell_type": "code",
   "execution_count": 37,
   "id": "5c747d90",
   "metadata": {},
   "outputs": [
    {
     "data": {
      "text/plain": [
       "{'name': 'vishnu', 'age': 24, 'city': 'Nashik'}"
      ]
     },
     "execution_count": 37,
     "metadata": {},
     "output_type": "execute_result"
    }
   ],
   "source": [
    "#21. Write a code to create a dictionary with the keys \"name\", \"age\", and \"city\", and print it.\n",
    "info={\"name\":'vishnu', \"age\":24, \"city\":\"Nashik\"}\n",
    "info"
   ]
  },
  {
   "cell_type": "code",
   "execution_count": 40,
   "id": "2678a9e6",
   "metadata": {},
   "outputs": [
    {
     "data": {
      "text/plain": [
       "{'name': 'John', 'age': 25, 'country': 'USA'}"
      ]
     },
     "execution_count": 40,
     "metadata": {},
     "output_type": "execute_result"
    }
   ],
   "source": [
    "#22. Write a code to add a new key-value pair \"country\": \"USA\" to the dictionary {'name': 'John', 'age': 25}.\n",
    "dictionary={'name': 'John', 'age': 25}\n",
    "dictionary[\"country\"]=\"USA\"\n",
    "dictionary"
   ]
  },
  {
   "cell_type": "code",
   "execution_count": 42,
   "id": "c48d6908",
   "metadata": {},
   "outputs": [
    {
     "data": {
      "text/plain": [
       "'Alice'"
      ]
     },
     "execution_count": 42,
     "metadata": {},
     "output_type": "execute_result"
    }
   ],
   "source": [
    "#23. Write a code to access the value associated with the key \"name\" in the dictionary {'name': 'Alice', 'age': 30}.\n",
    "dictionary={'name': 'Alice', 'age': 30}\n",
    "dictionary['name']"
   ]
  },
  {
   "cell_type": "code",
   "execution_count": 45,
   "id": "e92cff6c",
   "metadata": {},
   "outputs": [
    {
     "data": {
      "text/plain": [
       "{'name': 'Bob', 'city': 'New York'}"
      ]
     },
     "execution_count": 45,
     "metadata": {},
     "output_type": "execute_result"
    }
   ],
   "source": [
    "#24. Write a code to remove the key \"age\" from the dictionary {'name': 'Bob', 'age': 22, 'city': 'New York'}.\n",
    "dictionary={'name': 'Bob', 'age': 22, 'city': 'New York'}\n",
    "dictionary.pop(\"age\")\n",
    "dictionary"
   ]
  },
  {
   "cell_type": "code",
   "execution_count": 46,
   "id": "06a88528",
   "metadata": {},
   "outputs": [
    {
     "data": {
      "text/plain": [
       "True"
      ]
     },
     "execution_count": 46,
     "metadata": {},
     "output_type": "execute_result"
    }
   ],
   "source": [
    "#25. Write a code to check if the key \"city\" exists in the dictionary {'name': 'Alice', 'city': 'Paris'}.\n",
    "dictionary={'name': 'Alice', 'city': 'Paris'}\n",
    "\"city\" in dictionary"
   ]
  },
  {
   "cell_type": "code",
   "execution_count": 49,
   "id": "e338af05",
   "metadata": {},
   "outputs": [
    {
     "name": "stdout",
     "output_type": "stream",
     "text": [
      "[1, 2, 3, 4]\n",
      "('a', 'b', 6, 7)\n",
      "{'name': 'Bob', 'age': 22, 'city': 'New York'}\n"
     ]
    }
   ],
   "source": [
    "#26. Write a code to create a list, a tuple, and a dictionary, and print them all\n",
    "list1 = [1,2,3,4]\n",
    "tuple1=('a','b',6,7)\n",
    "dictionary={'name': 'Bob', 'age': 22, 'city': 'New York'}\n",
    "print(list1)\n",
    "print(tuple1)\n",
    "print(dictionary)"
   ]
  },
  {
   "cell_type": "code",
   "execution_count": null,
   "id": "29fb185b",
   "metadata": {},
   "outputs": [],
   "source": [
    "#27. Write a code to create a list of 5 random numbers between 1 and 100, sort it in ascending order, and print the\n",
    "result.(replaced)\n",
    "import random\n",
    "\n",
    "# Generate a list of 5 random numbers between 1 and 100\n",
    "random_numbers = random.sample(range(1, 101), 5)\n",
    "\n",
    "# Sort the list in ascending order\n",
    "random_numbers.sort()\n",
    "\n",
    "# Print the sorted list\n",
    "print(random_numbers)\n"
   ]
  },
  {
   "cell_type": "code",
   "execution_count": 51,
   "id": "406b30ca",
   "metadata": {},
   "outputs": [
    {
     "data": {
      "text/plain": [
       "'diya'"
      ]
     },
     "execution_count": 51,
     "metadata": {},
     "output_type": "execute_result"
    }
   ],
   "source": [
    "#28. Write a code to create a list with strings and print the element at the third index.\n",
    "names=['veena','shreys','minu','diya','rita']\n",
    "names[3]"
   ]
  },
  {
   "cell_type": "code",
   "execution_count": 55,
   "id": "ef558b89",
   "metadata": {},
   "outputs": [
    {
     "name": "stdout",
     "output_type": "stream",
     "text": [
      "{'a': 1, 'b': 2, 'c': 3, 'd': 4}\n"
     ]
    }
   ],
   "source": [
    "#29. Write a code to combine two dictionaries into one and print the result.\n",
    "dict1 = {\"a\": 1, \"b\": 2}\n",
    "dict2 = {\"c\": 3, \"d\": 4}\n",
    "\n",
    "# Create a copy to avoid modifying original dict1\n",
    "combined_dict = dict1.copy() #deep copy\n",
    "combined_dict.update(dict2)\n",
    "\n",
    "print(combined_dict)\n"
   ]
  },
  {
   "cell_type": "code",
   "execution_count": 66,
   "id": "fcd32065",
   "metadata": {},
   "outputs": [
    {
     "data": {
      "text/plain": [
       "{'apple', 'banana', 'cherry'}"
      ]
     },
     "execution_count": 66,
     "metadata": {},
     "output_type": "execute_result"
    }
   ],
   "source": [
    "#30. Write a code to convert a list of strings into a set.\n",
    "string_list = [\"apple\", \"banana\", \"cherry\", \"apple\", \"banana\"]\n",
    "string_set = set(string_list)  # Now it works fine\n",
    "string_set"
   ]
  },
  {
   "cell_type": "code",
   "execution_count": null,
   "id": "b90d8083",
   "metadata": {},
   "outputs": [],
   "source": []
  }
 ],
 "metadata": {
  "kernelspec": {
   "display_name": "Python 3.6 (tensorflow)",
   "language": "python",
   "name": "tensorflow"
  },
  "language_info": {
   "codemirror_mode": {
    "name": "ipython",
    "version": 3
   },
   "file_extension": ".py",
   "mimetype": "text/x-python",
   "name": "python",
   "nbconvert_exporter": "python",
   "pygments_lexer": "ipython3",
   "version": "3.6.13"
  }
 },
 "nbformat": 4,
 "nbformat_minor": 5
}
